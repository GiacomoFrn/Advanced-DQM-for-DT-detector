{
 "cells": [
  {
   "cell_type": "code",
   "execution_count": 3,
   "metadata": {},
   "outputs": [],
   "source": [
    "import numpy as np\n",
    "import pandas as pd\n",
    "import h5py \n",
    "\n",
    "from DataReader import DataReader"
   ]
  },
  {
   "cell_type": "code",
   "execution_count": 4,
   "metadata": {},
   "outputs": [],
   "source": [
    "def read_data(file_name, n_data):\n",
    "    '''legge la distribuzione da un file'''\n",
    "    return DataReader(filename=file_name).build_sample(ndata=n_data)\n",
    "\n",
    "DATA_FOLDER = \"/lustre/cmswork/nlai/lcp-moda/data/\"\n",
    "DATA_FILE   = \"RUN000054_channels.h5\""
   ]
  },
  {
   "cell_type": "code",
   "execution_count": 13,
   "metadata": {},
   "outputs": [],
   "source": [
    "N_Ref = 200000\n",
    "N_Bkg = 3000\n",
    "\n",
    "N_D = N_Bkg\n",
    "N_R = N_Ref"
   ]
  },
  {
   "cell_type": "code",
   "execution_count": 10,
   "metadata": {},
   "outputs": [],
   "source": [
    "featureData = read_data(file_name=DATA_FOLDER+DATA_FILE, n_data=N_Bkg)\n",
    "featureRef  = read_data(file_name=DATA_FOLDER+DATA_FILE, n_data=N_Ref)"
   ]
  },
  {
   "cell_type": "code",
   "execution_count": 24,
   "metadata": {},
   "outputs": [],
   "source": [
    "feature     = np.concatenate((featureData, featureRef), axis=0)\n",
    "batch_size  = feature.shape[0]\n",
    "inputsize   = feature.shape[1]"
   ]
  },
  {
   "cell_type": "code",
   "execution_count": 28,
   "metadata": {},
   "outputs": [
    {
     "data": {
      "text/plain": [
       "3000"
      ]
     },
     "execution_count": 28,
     "metadata": {},
     "output_type": "execute_result"
    }
   ],
   "source": [
    "featureData.shape[0]"
   ]
  },
  {
   "cell_type": "code",
   "execution_count": 44,
   "metadata": {},
   "outputs": [],
   "source": [
    "targetData  = np.ones(featureData.shape[0])\n",
    "targetRef   = np.zeros(featureRef.shape[0])\n",
    "weightsData = np.ones(featureData.shape[0])\n",
    "weightsRef  = np.ones(featureRef.shape[0])*N_D*1./N_R\n",
    "target      = np.concatenate((targetData, targetRef), axis=0)\n",
    "weights     = np.concatenate((weightsData, weightsRef), axis=0)\n",
    "target      = np.expand_dims(target, 1)\n",
    "weights     = np.expand_dims(weights, 1)\n",
    "target      = np.concatenate((target, weights), axis=1)"
   ]
  },
  {
   "cell_type": "code",
   "execution_count": 46,
   "metadata": {},
   "outputs": [
    {
     "data": {
      "text/plain": [
       "array([[1.   , 1.   ],\n",
       "       [1.   , 1.   ],\n",
       "       [1.   , 1.   ],\n",
       "       ...,\n",
       "       [0.   , 0.015],\n",
       "       [0.   , 0.015],\n",
       "       [0.   , 0.015]])"
      ]
     },
     "execution_count": 46,
     "metadata": {},
     "output_type": "execute_result"
    }
   ],
   "source": [
    "target"
   ]
  },
  {
   "cell_type": "code",
   "execution_count": 31,
   "metadata": {},
   "outputs": [
    {
     "data": {
      "text/plain": [
       "(203000, 2)"
      ]
     },
     "execution_count": 31,
     "metadata": {},
     "output_type": "execute_result"
    }
   ],
   "source": [
    "feature.shape"
   ]
  },
  {
   "cell_type": "code",
   "execution_count": 21,
   "metadata": {},
   "outputs": [],
   "source": []
  }
 ],
 "metadata": {
  "interpreter": {
   "hash": "91e94dacc13bcc9ab92871d8572d4c8a018895bdfb2528d081f4892614b17d07"
  },
  "kernelspec": {
   "display_name": "Python 3",
   "language": "python",
   "name": "python3"
  },
  "language_info": {
   "codemirror_mode": {
    "name": "ipython",
    "version": 3
   },
   "file_extension": ".py",
   "mimetype": "text/x-python",
   "name": "python",
   "nbconvert_exporter": "python",
   "pygments_lexer": "ipython3",
   "version": "3.6.8"
  }
 },
 "nbformat": 4,
 "nbformat_minor": 4
}
