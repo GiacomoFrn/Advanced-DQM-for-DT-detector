{
 "cells": [
  {
   "cell_type": "markdown",
   "metadata": {},
   "source": [
    "# Title of the project (?)"
   ]
  },
  {
   "cell_type": "markdown",
   "metadata": {},
   "source": [
    "## Group 13\n",
    "\n",
    "* Pietro Cappelli\n",
    "* Alberto Coppi\n",
    "* Giacomo Franceschetto\n",
    "* Nicolò Lai"
   ]
  },
  {
   "cell_type": "markdown",
   "metadata": {},
   "source": [
    "## Outline\n",
    "\n",
    "1. Build a 2D dataset with t<sub>drift</sub> and the crossing angle &theta; as features\n",
    "   * using scintillator signals\n",
    "   * using the ML algorithm reconstruction hidden within data\n",
    "2. Study the correlation between the two features \n",
    "3. Test the performance of \"the algorithm\" (we should find a name for that algorithm) using the 2D dataset built in 1.\n",
    "   * NN architecture &rarr; more complex than 1x3x1 (maybe 2x3x3 or 2x5x5)\n",
    "   * What is the average training time for the algorithm?\n",
    "   * If we put a constraint on the crossing angle, does the algorithm detect the anomaly in the drift time distribution or it correctly sees the correlation between the two features?\n",
    "  "
   ]
  },
  {
   "cell_type": "markdown",
   "metadata": {},
   "source": [
    "## Deadline\n",
    "\n",
    "7 Feb 2022"
   ]
  }
 ],
 "metadata": {
  "language_info": {
   "name": "python"
  },
  "orig_nbformat": 4
 },
 "nbformat": 4,
 "nbformat_minor": 2
}
