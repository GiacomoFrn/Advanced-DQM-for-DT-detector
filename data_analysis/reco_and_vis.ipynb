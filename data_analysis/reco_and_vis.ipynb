{
 "cells": [
  {
   "cell_type": "code",
   "execution_count": 1,
   "metadata": {},
   "outputs": [],
   "source": [
    "import h5py\n",
    "\n",
    "import pandas as pd\n",
    "import matplotlib.pyplot as plt\n",
    "import numpy as np\n",
    "import math\n",
    "import warnings\n",
    "\n",
    "\n",
    "import yaml\n",
    "with open(\"../config/RUN000054.yml\", 'r') as stream:\n",
    "    cfg = yaml.safe_load(stream)"
   ]
  },
  {
   "cell_type": "code",
   "execution_count": 3,
   "metadata": {},
   "outputs": [],
   "source": [
    "import importlib\n",
    "import sys\n",
    "\n",
    "sys.path.append('../dataset_script')\n",
    "\n",
    "import dataset_script\n",
    "\n",
    "from dataset_script import buildDataframe"
   ]
  },
  {
   "cell_type": "code",
   "execution_count": null,
   "metadata": {},
   "outputs": [],
   "source": [
    "# Run reco algorithm on splitted dataset\n",
    "df = pd.DataFrame()\n",
    "bounds = list(range(0, len(stream_df), 10000000))+[len(stream_df)]\n",
    "for i in range(1,len(bounds)):\n",
    "    df_ = buildDataframe(stream_df[bounds[i-1]:bounds[i]], cfg)\n",
    "    df = pd.concat([df, df_], axis=0, ignore_index=True)"
   ]
  },
  {
   "cell_type": "code",
   "execution_count": null,
   "metadata": {},
   "outputs": [],
   "source": [
    "# Save results\n",
    "RUNNUMBER = \"0054\"\n",
    "OUTPUT_PATH = \"../data/\"\n",
    "from dataset_script import saveChannels\n",
    "channels = saveChannels(df, OUTPUT_PATH, RUNNUMBER)"
   ]
  },
  {
   "cell_type": "markdown",
   "metadata": {},
   "source": [
    "Read reco result from h5 file"
   ]
  },
  {
   "cell_type": "code",
   "execution_count": 4,
   "metadata": {},
   "outputs": [
    {
     "name": "stdout",
     "output_type": "stream",
     "text": [
      "Shape: (1059990, 5)\n",
      "Features: ['ch', 'drift_time', 'D_WIRE_HIT', 'm', 'theta']\n"
     ]
    }
   ],
   "source": [
    "# path to data file\n",
    "FILE_NAME = \"../data/RUN000054_channels.h5\"\n",
    "\n",
    "# get keys\n",
    "f = h5py.File(FILE_NAME, \"r\")\n",
    "keys = f.keys()\n",
    "\n",
    "# build the dataset by concatenating all channels together\n",
    "df = pd.concat(\n",
    "    [\n",
    "        pd.read_hdf(FILE_NAME, key=k, mode=\"r\") for k in keys\n",
    "    ],\n",
    "    ignore_index=True\n",
    ")\n",
    "\n",
    "# rename columns\n",
    "df = df.rename(columns={\"CH\":\"ch\", \"HIT_DRIFT_TIME\":\"drift_time\", \"THETA\":\"theta\"})\n",
    "\n",
    "print(f\"Shape: {df.shape}\")\n",
    "print(f'Features: {list(df.columns)}')"
   ]
  },
  {
   "cell_type": "code",
   "execution_count": 5,
   "metadata": {},
   "outputs": [
    {
     "name": "stderr",
     "output_type": "stream",
     "text": [
      "/tmp/ipykernel_4985/2426647731.py:2: SettingWithCopyWarning: \n",
      "A value is trying to be set on a copy of a slice from a DataFrame\n",
      "\n",
      "See the caveats in the documentation: https://pandas.pydata.org/pandas-docs/stable/user_guide/indexing.html#returning-a-view-versus-a-copy\n",
      "  df[\"SL\"][df[\"SL\"]<2] = [int(not x) for x in df[\"SL\"]]\n"
     ]
    }
   ],
   "source": [
    "df[\"SL\"] = df[\"ch\"]//64\n",
    "df[\"SL\"][df[\"SL\"]<2] = [int(not x) for x in df[\"SL\"]]"
   ]
  },
  {
   "cell_type": "code",
   "execution_count": 6,
   "metadata": {},
   "outputs": [
    {
     "data": {
      "text/plain": [
       "Text(0.5, 0, 'd_wire_hit')"
      ]
     },
     "execution_count": 6,
     "metadata": {},
     "output_type": "execute_result"
    },
    {
     "data": {
      "image/png": "[encoded data removed]",
      "text/plain": [
       "<Figure size 1440x360 with 3 Axes>"
      ]
     },
     "metadata": {
      "needs_background": "light"
     },
     "output_type": "display_data"
    }
   ],
   "source": [
    "sl = 2\n",
    "fig = plt.figure(figsize=(20, 5))\n",
    "plt.subplots_adjust(bottom = 0., left = 0, top = 1., right = 1)\n",
    "\n",
    "sub1 = fig.add_subplot(1,3,1) \n",
    "sub1.hist(df[df[\"SL\"]==sl]['drift_time'], bins = 100)\n",
    "sub1.set_xlabel(\"drift_time\")\n",
    "\n",
    "\n",
    "sub2 = fig.add_subplot(1,3,2) \n",
    "sub2.hist(df[df[\"SL\"]==sl]['theta'], bins = 100)\n",
    "sub2.set_xlabel(\"theta\")\n",
    "\"\"\"\"\"\n",
    "sub2 = fig.add_subplot(1,3,2) \n",
    "sub2.hist(df[df[\"SL\"]==sl-1]['D_WIRE_HIT'], bins = 100)\n",
    "sub2.set_xlabel(\"d_wire_hit\")\n",
    "\"\"\"\"\"\n",
    "\n",
    "sub3 = fig.add_subplot(1,3,3) \n",
    "sub3.hist(df[df[\"SL\"]==sl]['D_WIRE_HIT'], bins = 100)\n",
    "sub3.set_xlabel(\"d_wire_hit\")"
   ]
  },
  {
   "cell_type": "code",
   "execution_count": null,
   "metadata": {},
   "outputs": [],
   "source": []
  }
 ],
 "metadata": {
  "interpreter": {
   "hash": "c764765d3a23b82ea6dc8b51e68f828b52dfa8d66dff00b67cebce7fa206e036"
  },
  "kernelspec": {
   "display_name": "Python 3.9.5 64-bit ('base': conda)",
   "language": "python",
   "name": "python3"
  },
  "language_info": {
   "codemirror_mode": {
    "name": "ipython",
    "version": 3
   },
   "file_extension": ".py",
   "mimetype": "text/x-python",
   "name": "python",
   "nbconvert_exporter": "python",
   "pygments_lexer": "ipython3",
   "version": "3.9.5"
  },
  "orig_nbformat": 4
 },
 "nbformat": 4,
 "nbformat_minor": 2
}
