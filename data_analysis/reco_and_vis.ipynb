{
 "cells": [
  {
   "cell_type": "code",
   "execution_count": 1,
   "metadata": {},
   "outputs": [],
   "source": [
    "import h5py\n",
    "\n",
    "import pandas as pd\n",
    "import matplotlib.pyplot as plt\n",
    "import numpy as np\n",
    "import math\n",
    "import warnings\n",
    "\n",
    "\n",
    "import yaml\n",
    "with open(\"../config/RUN000054.yml\", 'r') as stream:\n",
    "    cfg = yaml.safe_load(stream)"
   ]
  },
  {
   "cell_type": "code",
   "execution_count": 2,
   "metadata": {},
   "outputs": [],
   "source": [
    "import importlib\n",
    "import sys\n",
    "\n",
    "sys.path.append('../dataset_script')\n",
    "\n",
    "import dataset_script\n",
    "\n",
    "from dataset_script import buildDataframe"
   ]
  },
  {
   "cell_type": "code",
   "execution_count": 3,
   "metadata": {},
   "outputs": [],
   "source": [
    "FILE_NAME = \"../data/RUN000054_data.txt\""
   ]
  },
  {
   "cell_type": "code",
   "execution_count": 4,
   "metadata": {},
   "outputs": [
    {
     "data": {
      "text/html": [
       "<div>\n",
       "<style scoped>\n",
       "    .dataframe tbody tr th:only-of-type {\n",
       "        vertical-align: middle;\n",
       "    }\n",
       "\n",
       "    .dataframe tbody tr th {\n",
       "        vertical-align: top;\n",
       "    }\n",
       "\n",
       "    .dataframe thead th {\n",
       "        text-align: right;\n",
       "    }\n",
       "</style>\n",
       "<table border=\"1\" class=\"dataframe\">\n",
       "  <thead>\n",
       "    <tr style=\"text-align: right;\">\n",
       "      <th></th>\n",
       "      <th>HEAD</th>\n",
       "      <th>FPGA</th>\n",
       "      <th>TDC_CHANNEL</th>\n",
       "      <th>ORBIT_CNT</th>\n",
       "      <th>BX_COUNTER</th>\n",
       "      <th>TDC_MEAS</th>\n",
       "    </tr>\n",
       "  </thead>\n",
       "  <tbody>\n",
       "    <tr>\n",
       "      <th>0</th>\n",
       "      <td>2</td>\n",
       "      <td>0</td>\n",
       "      <td>35</td>\n",
       "      <td>1379482729</td>\n",
       "      <td>2693</td>\n",
       "      <td>11</td>\n",
       "    </tr>\n",
       "    <tr>\n",
       "      <th>1</th>\n",
       "      <td>2</td>\n",
       "      <td>0</td>\n",
       "      <td>56</td>\n",
       "      <td>1379482738</td>\n",
       "      <td>3051</td>\n",
       "      <td>1</td>\n",
       "    </tr>\n",
       "    <tr>\n",
       "      <th>2</th>\n",
       "      <td>2</td>\n",
       "      <td>1</td>\n",
       "      <td>122</td>\n",
       "      <td>1379482739</td>\n",
       "      <td>567</td>\n",
       "      <td>12</td>\n",
       "    </tr>\n",
       "    <tr>\n",
       "      <th>3</th>\n",
       "      <td>2</td>\n",
       "      <td>0</td>\n",
       "      <td>98</td>\n",
       "      <td>1379482743</td>\n",
       "      <td>3196</td>\n",
       "      <td>23</td>\n",
       "    </tr>\n",
       "    <tr>\n",
       "      <th>4</th>\n",
       "      <td>2</td>\n",
       "      <td>0</td>\n",
       "      <td>101</td>\n",
       "      <td>1379482743</td>\n",
       "      <td>3201</td>\n",
       "      <td>13</td>\n",
       "    </tr>\n",
       "  </tbody>\n",
       "</table>\n",
       "</div>"
      ],
      "text/plain": [
       "   HEAD  FPGA  TDC_CHANNEL   ORBIT_CNT  BX_COUNTER  TDC_MEAS\n",
       "0     2     0           35  1379482729        2693        11\n",
       "1     2     0           56  1379482738        3051         1\n",
       "2     2     1          122  1379482739         567        12\n",
       "3     2     0           98  1379482743        3196        23\n",
       "4     2     0          101  1379482743        3201        13"
      ]
     },
     "execution_count": 4,
     "metadata": {},
     "output_type": "execute_result"
    }
   ],
   "source": [
    "stream_df = pd.read_csv(FILE_NAME)\n",
    "stream_df.head()"
   ]
  },
  {
   "cell_type": "code",
   "execution_count": 12,
   "metadata": {},
   "outputs": [
    {
     "name": "stdout",
     "output_type": "stream",
     "text": [
      "Getting events...\n",
      "Valid hits: 153132\n",
      "Reconstructing tracks...\n",
      "Building dataframe...\n",
      "Dataframe ready!\n",
      "Getting events...\n",
      "Valid hits: 147431\n",
      "Reconstructing tracks...\n",
      "Building dataframe...\n",
      "Dataframe ready!\n",
      "Getting events...\n",
      "Valid hits: 148704\n",
      "Reconstructing tracks...\n",
      "Building dataframe...\n",
      "Dataframe ready!\n",
      "Getting events...\n",
      "Valid hits: 168915\n",
      "Reconstructing tracks...\n",
      "Building dataframe...\n",
      "Dataframe ready!\n",
      "Getting events...\n",
      "Valid hits: 174443\n",
      "Reconstructing tracks...\n",
      "Building dataframe...\n",
      "Dataframe ready!\n",
      "Getting events...\n",
      "Valid hits: 172632\n",
      "Reconstructing tracks...\n",
      "Building dataframe...\n",
      "Dataframe ready!\n",
      "Getting events...\n",
      "Valid hits: 169349\n",
      "Reconstructing tracks...\n",
      "Building dataframe...\n",
      "Dataframe ready!\n",
      "Getting events...\n",
      "Valid hits: 170932\n",
      "Reconstructing tracks...\n",
      "Building dataframe...\n",
      "Dataframe ready!\n",
      "Getting events...\n",
      "Valid hits: 171722\n",
      "Reconstructing tracks...\n",
      "Building dataframe...\n",
      "Dataframe ready!\n",
      "Getting events...\n",
      "Valid hits: 165763\n",
      "Reconstructing tracks...\n",
      "Building dataframe...\n",
      "Dataframe ready!\n",
      "Getting events...\n",
      "Valid hits: 75002\n",
      "Reconstructing tracks...\n",
      "Building dataframe...\n",
      "Dataframe ready!\n"
     ]
    }
   ],
   "source": [
    "# Run reco algorithm on splitted dataset\n",
    "df = pd.DataFrame()\n",
    "bounds = list(range(0, len(stream_df), 10000000))+[len(stream_df)]\n",
    "for i in range(1,len(bounds)):\n",
    "    df_ = buildDataframe(stream_df[bounds[i-1]:bounds[i]], cfg)\n",
    "    df = pd.concat([df, df_], axis=0, ignore_index=True)"
   ]
  },
  {
   "cell_type": "code",
   "execution_count": 13,
   "metadata": {},
   "outputs": [
    {
     "name": "stdout",
     "output_type": "stream",
     "text": [
      "Saving data...\n"
     ]
    }
   ],
   "source": [
    "# Save results\n",
    "RUNNUMBER = \"0054_1\"\n",
    "OUTPUT_PATH = \"../data/\"\n",
    "from dataset_script import saveChannels\n",
    "channels = saveChannels(df, OUTPUT_PATH, RUNNUMBER)"
   ]
  },
  {
   "cell_type": "markdown",
   "metadata": {},
   "source": [
    "Read reco result from h5 file"
   ]
  },
  {
   "cell_type": "code",
   "execution_count": 14,
   "metadata": {},
   "outputs": [
    {
     "name": "stdout",
     "output_type": "stream",
     "text": [
      "Shape: (1059979, 5)\n",
      "Features: ['ch', 'drift_time', 'D_WIRE_HIT', 'm', 'theta']\n"
     ]
    }
   ],
   "source": [
    "# path to data file\n",
    "FILE_NAME = \"../data/RUN000054_1_channels.h5\"\n",
    "\n",
    "# get keys\n",
    "f = h5py.File(FILE_NAME, \"r\")\n",
    "keys = f.keys()\n",
    "\n",
    "# build the dataset by concatenating all channels together\n",
    "df = pd.concat(\n",
    "    [\n",
    "        pd.read_hdf(FILE_NAME, key=k, mode=\"r\") for k in keys\n",
    "    ],\n",
    "    ignore_index=True\n",
    ")\n",
    "\n",
    "# rename columns\n",
    "df = df.rename(columns={\"CH\":\"ch\", \"HIT_DRIFT_TIME\":\"drift_time\", \"THETA\":\"theta\"})\n",
    "\n",
    "print(f\"Shape: {df.shape}\")\n",
    "print(f'Features: {list(df.columns)}')"
   ]
  },
  {
   "cell_type": "code",
   "execution_count": 15,
   "metadata": {},
   "outputs": [],
   "source": [
    "df[\"SL\"] = df[\"ch\"]//64\n",
    "df[\"SL\"][df[\"SL\"]<2] = [int(not x) for x in df[\"SL\"]]"
   ]
  },
  {
   "cell_type": "code",
   "execution_count": 18,
   "metadata": {},
   "outputs": [
    {
     "data": {
      "text/plain": [
       "Text(0.5, 0, 'd_wire_hit')"
      ]
     },
     "execution_count": 18,
     "metadata": {},
     "output_type": "execute_result"
    },
    {
     "data": {
      "image/png": "[encoded data removed]",
      "text/plain": [
       "<Figure size 1440x360 with 3 Axes>"
      ]
     },
     "metadata": {
      "needs_background": "light"
     },
     "output_type": "display_data"
    }
   ],
   "source": [
    "sl = 3\n",
    "fig = plt.figure(figsize=(20, 5))\n",
    "plt.subplots_adjust(bottom = 0., left = 0, top = 1., right = 1)\n",
    "\n",
    "sub1 = fig.add_subplot(1,3,1) \n",
    "sub1.hist(df[df[\"SL\"]==sl]['drift_time'], bins = 100)\n",
    "sub1.set_xlabel(\"drift_time\")\n",
    "\n",
    "\n",
    "sub2 = fig.add_subplot(1,3,2) \n",
    "sub2.hist(df[df[\"SL\"]==sl]['theta'], bins = 100)\n",
    "sub2.set_xlabel(\"theta\")\n",
    "\"\"\"\"\"\n",
    "sub2 = fig.add_subplot(1,3,2) \n",
    "sub2.hist(df[df[\"SL\"]==sl-1]['D_WIRE_HIT'], bins = 100)\n",
    "sub2.set_xlabel(\"d_wire_hit\")\n",
    "\"\"\"\"\"\n",
    "\n",
    "sub3 = fig.add_subplot(1,3,3) \n",
    "sub3.hist(df[df[\"SL\"]==sl]['D_WIRE_HIT'], bins = 100)\n",
    "sub3.set_xlabel(\"d_wire_hit\")"
   ]
  },
  {
   "cell_type": "code",
   "execution_count": null,
   "metadata": {},
   "outputs": [],
   "source": []
  }
 ],
 "metadata": {
  "interpreter": {
   "hash": "c764765d3a23b82ea6dc8b51e68f828b52dfa8d66dff00b67cebce7fa206e036"
  },
  "kernelspec": {
   "display_name": "Python 3.9.5 64-bit ('base': conda)",
   "language": "python",
   "name": "python3"
  },
  "language_info": {
   "codemirror_mode": {
    "name": "ipython",
    "version": 3
   },
   "file_extension": ".py",
   "mimetype": "text/x-python",
   "name": "python",
   "nbconvert_exporter": "python",
   "pygments_lexer": "ipython3",
   "version": "3.9.5"
  },
  "orig_nbformat": 4
 },
 "nbformat": 4,
 "nbformat_minor": 2
}
