{
 "cells": [
  {
   "cell_type": "code",
   "execution_count": 1,
   "metadata": {},
   "outputs": [],
   "source": [
    "import h5py\n",
    "\n",
    "import pandas as pd\n",
    "import matplotlib.pyplot as plt"
   ]
  },
  {
   "cell_type": "code",
   "execution_count": 2,
   "metadata": {},
   "outputs": [],
   "source": [
    "FILE_NAME = \"../data/RUN000054_data.txt\""
   ]
  },
  {
   "cell_type": "code",
   "execution_count": 3,
   "metadata": {},
   "outputs": [
    {
     "data": {
      "text/html": [
       "<div>\n",
       "<style scoped>\n",
       "    .dataframe tbody tr th:only-of-type {\n",
       "        vertical-align: middle;\n",
       "    }\n",
       "\n",
       "    .dataframe tbody tr th {\n",
       "        vertical-align: top;\n",
       "    }\n",
       "\n",
       "    .dataframe thead th {\n",
       "        text-align: right;\n",
       "    }\n",
       "</style>\n",
       "<table border=\"1\" class=\"dataframe\">\n",
       "  <thead>\n",
       "    <tr style=\"text-align: right;\">\n",
       "      <th></th>\n",
       "      <th>HEAD</th>\n",
       "      <th>FPGA</th>\n",
       "      <th>TDC_CHANNEL</th>\n",
       "      <th>ORBIT_CNT</th>\n",
       "      <th>BX_COUNTER</th>\n",
       "      <th>TDC_MEAS</th>\n",
       "    </tr>\n",
       "  </thead>\n",
       "  <tbody>\n",
       "    <tr>\n",
       "      <th>0</th>\n",
       "      <td>2</td>\n",
       "      <td>0</td>\n",
       "      <td>35</td>\n",
       "      <td>1379482729</td>\n",
       "      <td>2693</td>\n",
       "      <td>11</td>\n",
       "    </tr>\n",
       "    <tr>\n",
       "      <th>1</th>\n",
       "      <td>2</td>\n",
       "      <td>0</td>\n",
       "      <td>56</td>\n",
       "      <td>1379482738</td>\n",
       "      <td>3051</td>\n",
       "      <td>1</td>\n",
       "    </tr>\n",
       "    <tr>\n",
       "      <th>2</th>\n",
       "      <td>2</td>\n",
       "      <td>1</td>\n",
       "      <td>122</td>\n",
       "      <td>1379482739</td>\n",
       "      <td>567</td>\n",
       "      <td>12</td>\n",
       "    </tr>\n",
       "    <tr>\n",
       "      <th>3</th>\n",
       "      <td>2</td>\n",
       "      <td>0</td>\n",
       "      <td>98</td>\n",
       "      <td>1379482743</td>\n",
       "      <td>3196</td>\n",
       "      <td>23</td>\n",
       "    </tr>\n",
       "    <tr>\n",
       "      <th>4</th>\n",
       "      <td>2</td>\n",
       "      <td>0</td>\n",
       "      <td>101</td>\n",
       "      <td>1379482743</td>\n",
       "      <td>3201</td>\n",
       "      <td>13</td>\n",
       "    </tr>\n",
       "  </tbody>\n",
       "</table>\n",
       "</div>"
      ],
      "text/plain": [
       "   HEAD  FPGA  TDC_CHANNEL   ORBIT_CNT  BX_COUNTER  TDC_MEAS\n",
       "0     2     0           35  1379482729        2693        11\n",
       "1     2     0           56  1379482738        3051         1\n",
       "2     2     1          122  1379482739         567        12\n",
       "3     2     0           98  1379482743        3196        23\n",
       "4     2     0          101  1379482743        3201        13"
      ]
     },
     "execution_count": 3,
     "metadata": {},
     "output_type": "execute_result"
    }
   ],
   "source": [
    "stream_df = pd.read_csv(FILE_NAME)\n",
    "stream_df.head()"
   ]
  },
  {
   "cell_type": "code",
   "execution_count": 4,
   "metadata": {},
   "outputs": [
    {
     "data": {
      "text/plain": [
       "104509780"
      ]
     },
     "execution_count": 4,
     "metadata": {},
     "output_type": "execute_result"
    }
   ],
   "source": [
    "len(stream_df)"
   ]
  },
  {
   "cell_type": "code",
   "execution_count": 5,
   "metadata": {},
   "outputs": [],
   "source": [
    "import yaml\n",
    "with open(\"../config/RUN000054.yml\", 'r') as stream:\n",
    "    cfg = yaml.safe_load(stream)\n"
   ]
  },
  {
   "cell_type": "code",
   "execution_count": 6,
   "metadata": {},
   "outputs": [],
   "source": [
    "# select all hits in the stream from the scintillator channel\n",
    "trigger_df = stream_df[\n",
    "    (stream_df['HEAD'] == cfg['scintillator']['head']) & \n",
    "    (stream_df['FPGA'] == cfg['scintillator']['fpga']) & \n",
    "    (stream_df['TDC_CHANNEL'] == cfg['scintillator']['tdc_ch'])\n",
    "].copy()\n",
    "\n",
    "# create a T0 column (in ns)\n",
    "trigger_df['T0'] = (trigger_df['BX_COUNTER'] + trigger_df['TDC_MEAS'] / 30)*25\n",
    "\n",
    "# join trigger table to the dataframe with valid hits\n",
    "hits_df = pd.merge(\n",
    "        stream_df, trigger_df[['ORBIT_CNT','T0']],\n",
    "        left_on='ORBIT_CNT', right_on='ORBIT_CNT',\n",
    "        suffixes=(None, None)\n",
    ")"
   ]
  },
  {
   "cell_type": "code",
   "execution_count": 7,
   "metadata": {},
   "outputs": [
    {
     "data": {
      "image/png": "[encoded data removed]",
      "text/plain": [
       "<Figure size 432x288 with 1 Axes>"
      ]
     },
     "metadata": {
      "needs_background": "light"
     },
     "output_type": "display_data"
    }
   ],
   "source": [
    "plt.hist(\n",
    "    ((hits_df['BX_COUNTER']+hits_df['TDC_MEAS']/30)*25 - hits_df['T0']),\n",
    "    range=(-200,550), bins=100\n",
    "    )\n",
    "plt.xlabel('drift time (ns)')\n",
    "plt.show()"
   ]
  },
  {
   "cell_type": "markdown",
   "metadata": {},
   "source": [
    "abbastanza strano, ci sono molte hits dove il tempo misurato coincide con la coincidenza degli scintillatori, non mi era mai successo, non so che significato attribuirgli"
   ]
  },
  {
   "cell_type": "markdown",
   "metadata": {},
   "source": [
    "## Fit the right _time_offset_scint_"
   ]
  },
  {
   "cell_type": "code",
   "execution_count": 8,
   "metadata": {},
   "outputs": [
    {
     "data": {
      "image/png": "[encoded data removed]",
      "text/plain": [
       "<Figure size 432x288 with 1 Axes>"
      ]
     },
     "metadata": {
      "needs_background": "light"
     },
     "output_type": "display_data"
    }
   ],
   "source": [
    "counts, bins, _ = plt.hist(\n",
    "    ((hits_df['BX_COUNTER']+hits_df['TDC_MEAS']/30)*25 - hits_df['T0']),\n",
    "    range=(-400,3600), bins=500, histtype=u'step'\n",
    "    )\n",
    "plt.xlabel('drift time (ns)')\n",
    "#plt.xlim(-200, -100)\n",
    "plt.ylim(0,60000)\n",
    "plt.show()"
   ]
  },
  {
   "cell_type": "code",
   "execution_count": 9,
   "metadata": {},
   "outputs": [],
   "source": [
    "from scipy.special import erf\n",
    "import numpy as np\n",
    "from scipy.optimize import curve_fit\n",
    "\n",
    "def fit_edge(t, I, t_mean, sigma):\n",
    "    return 0.5*I*(1+erf((t-t_mean)/(np.sqrt(2)*sigma)))"
   ]
  },
  {
   "cell_type": "code",
   "execution_count": 87,
   "metadata": {},
   "outputs": [],
   "source": [
    "hits_df[\"SL\"]= (hits_df[\"TDC_CHANNEL\"]+128*hits_df[\"FPGA\"])//64\n",
    "hits_df[\"SL\"][hits_df[\"SL\"]<2] = [int(not x) for x in hits_df[\"SL\"]]"
   ]
  },
  {
   "cell_type": "code",
   "execution_count": 115,
   "metadata": {},
   "outputs": [],
   "source": [
    "hits_df_ = hits_df[hits_df['SL']!=10] # modify to select specific SLs"
   ]
  },
  {
   "cell_type": "code",
   "execution_count": 116,
   "metadata": {},
   "outputs": [
    {
     "data": {
      "text/plain": [
       "<matplotlib.patches.ConnectionPatch at 0x7f69cc393dc0>"
      ]
     },
     "execution_count": 116,
     "metadata": {},
     "output_type": "execute_result"
    },
    {
     "data": {
      "image/png": "[encoded data removed]",
      "text/plain": [
       "<Figure size 720x360 with 2 Axes>"
      ]
     },
     "metadata": {
      "needs_background": "light"
     },
     "output_type": "display_data"
    }
   ],
   "source": [
    "from matplotlib.patches import ConnectionPatch\n",
    "\n",
    "fig = plt.figure(figsize=(10, 5))\n",
    "plt.subplots_adjust(bottom = 0., left = 0, top = 1., right = 1)\n",
    "\n",
    "n_bins = 1600\n",
    "height = 25000\n",
    "\n",
    "sub1 = fig.add_subplot(1,2,1) \n",
    "sub1.hist(\n",
    "    ((hits_df_['BX_COUNTER']+hits_df_['TDC_MEAS']/30)*25 - hits_df_['T0']),\n",
    "    range=(-400,3600), bins=n_bins, histtype=u'step'\n",
    "    )\n",
    "sub1.set_ylim(0,30000)\n",
    "sub1.set_xlim(-200,300)\n",
    "sub1.set_xlabel('drift time (ns)')\n",
    "\n",
    "sub2 = fig.add_subplot(1,2,2)\n",
    "\n",
    "# hist\n",
    "counts, bins, _ = sub2.hist(\n",
    "    ((hits_df_['BX_COUNTER']+hits_df_['TDC_MEAS']/30)*25 - hits_df_['T0']),\n",
    "    range=(-400,3600), bins=n_bins, histtype=u'step'\n",
    "    )\n",
    "\n",
    "# get fit points\n",
    "x_points = np.array([(x1+x2)*0.5 for x1, x2 in zip(bins[:-1], bins[1:])])\n",
    "err      = np.array([np.sqrt(n) for n in counts])\n",
    "counts   = np.array(counts)\n",
    "idx      = np.array([ i for i in range(len(x_points)) if(-160<x_points[i]<-120)])\n",
    "x_points = x_points[idx]\n",
    "err      = err[idx]\n",
    "counts   = counts[idx]\n",
    "\n",
    "# fit\n",
    "p0 = [20000, -140, 1]\n",
    "popt, pcov = curve_fit(fit_edge, x_points, counts, p0, err)\n",
    "\n",
    "#plot\n",
    "sub2.plot(x_points, fit_edge(x_points, *popt))\n",
    "sub2.errorbar(x_points, counts, err, fmt='o')\n",
    "sub2.set_xlim(-180,-100)\n",
    "sub2.set_ylim(0,height)\n",
    "sub2.set_xlabel('drift time (ns)')\n",
    "\n",
    "# decorations\n",
    "sub1.fill_between((-180,-100), 0, height, facecolor='tab:cyan', alpha=0.2)\n",
    "\n",
    "con1 = ConnectionPatch(xyA=(-100, height), coordsA=sub1.transData, \n",
    "                       xyB=(-180, height), coordsB=sub2.transData, color = 'tab:cyan')\n",
    "fig.add_artist(con1)\n",
    "\n",
    "con2 = ConnectionPatch(xyA=(-100, 0), coordsA=sub1.transData, \n",
    "                       xyB=(-180, 0), coordsB=sub2.transData, color = 'tab:cyan')\n",
    "fig.add_artist(con2)"
   ]
  },
  {
   "cell_type": "code",
   "execution_count": 117,
   "metadata": {},
   "outputs": [
    {
     "data": {
      "text/plain": [
       "-0.04151971550612643"
      ]
     },
     "execution_count": 117,
     "metadata": {},
     "output_type": "execute_result"
    }
   ],
   "source": [
    "popt[1]+143.6"
   ]
  },
  {
   "cell_type": "code",
   "execution_count": null,
   "metadata": {},
   "outputs": [],
   "source": [
    "import sys\n",
    "\n",
    "sys.path.append('../dataset_script')"
   ]
  },
  {
   "cell_type": "code",
   "execution_count": 12,
   "metadata": {},
   "outputs": [
    {
     "data": {
      "text/plain": [
       "<module 'reco' from '/mnt/c/Users/giaco/Il mio Drive/Uni/Physics of data/LCP/LCP_modA_finalProject/dataset_script/reco.py'>"
      ]
     },
     "execution_count": 12,
     "metadata": {},
     "output_type": "execute_result"
    }
   ],
   "source": [
    "import importlib\n",
    "import reco\n",
    "importlib.reload(reco)"
   ]
  },
  {
   "cell_type": "code",
   "execution_count": 13,
   "metadata": {},
   "outputs": [],
   "source": [
    "import pandas as pd\n",
    "import numpy as np\n",
    "import yaml\n",
    "import math\n",
    "import warnings\n",
    "\n",
    "warnings.simplefilter(action=\"ignore\", category=FutureWarning)\n",
    "warnings.filterwarnings(\"ignore\")\n",
    "\n",
    "# CONSTANTS\n",
    "USE_TRIGGER = False\n",
    "RUN_TIME_SHIFT = 0\n",
    "KEEP = [\"FPGA\", \"TDC_CHANNEL\", \"HIT_DRIFT_TIME\", \"D_WIRE_HIT\", \"m\"]\n",
    "\n",
    "from eventsFactory import getEvents\n",
    "from reco import getRecoResults\n",
    "def buildDataframe(stream_df, cfg):\n",
    "\n",
    "    df = pd.DataFrame()\n",
    "\n",
    "    # reco (da sistemare getEvents e getRecoResults)\n",
    "    print(\"Getting events...\")\n",
    "    events = getEvents(stream_df, cfg, RUN_TIME_SHIFT, USE_TRIGGER)\n",
    "    print(\"Reconstructing tracks...\")\n",
    "    resultsList, resultsData, resultsHits, resultsDf = getRecoResults(\n",
    "        events, USE_TRIGGER\n",
    "    )\n",
    "    print(\"Building dataframe...\")\n",
    "    # out df\n",
    "    for df_ in resultsDf:\n",
    "        df_['D_WIRE_HIT']= df_['X']-df_['WIRE_X_GLOB']\n",
    "        df_ = df_[KEEP]\n",
    "        df = pd.concat([df, df_], axis=0, ignore_index=True)\n",
    "\n",
    "    # add a sequential channel tag\n",
    "    df.loc[(df[\"FPGA\"] == 0), \"CH\"] = df[\"TDC_CHANNEL\"]\n",
    "    df.loc[(df[\"FPGA\"] == 1), \"CH\"] = df[\"TDC_CHANNEL\"] + 128\n",
    "    df_ = df.drop([\"FPGA\", \"TDC_CHANNEL\"], axis=1)\n",
    "    df_[\"CH\"] = df_[\"CH\"].astype(np.uint32)\n",
    "\n",
    "    # clean dataset\n",
    "    df = df_[[\"CH\", \"HIT_DRIFT_TIME\",'D_WIRE_HIT', \"m\"]]\n",
    "    df = df[(df[\"HIT_DRIFT_TIME\"] > -200) & (df[\"HIT_DRIFT_TIME\"] < 600)]\n",
    "    df = df[(df['D_WIRE_HIT'] > -21) & (df['D_WIRE_HIT'] < 21)]\n",
    "\n",
    "    # rad to deg conversion\n",
    "    df[\"THETA\"] = np.arctan(df[\"m\"]) * 180.0 / math.pi\n",
    "\n",
    "    print(\"Dataframe ready!\")\n",
    "\n",
    "    return df, resultsList, resultsData, resultsHits, resultsDf"
   ]
  },
  {
   "cell_type": "code",
   "execution_count": 15,
   "metadata": {},
   "outputs": [
    {
     "name": "stdout",
     "output_type": "stream",
     "text": [
      "Getting events...\n",
      "Valid hits: 153132\n",
      "Reconstructing tracks...\n",
      "Building dataframe...\n",
      "Dataframe ready!\n",
      "Getting events...\n",
      "Valid hits: 147431\n",
      "Reconstructing tracks...\n",
      "Building dataframe...\n",
      "Dataframe ready!\n",
      "Getting events...\n",
      "Valid hits: 148704\n",
      "Reconstructing tracks...\n",
      "Building dataframe...\n",
      "Dataframe ready!\n",
      "Getting events...\n",
      "Valid hits: 168915\n",
      "Reconstructing tracks...\n",
      "Building dataframe...\n",
      "Dataframe ready!\n",
      "Getting events...\n",
      "Valid hits: 174443\n",
      "Reconstructing tracks...\n",
      "Building dataframe...\n",
      "Dataframe ready!\n",
      "Getting events...\n",
      "Valid hits: 172632\n",
      "Reconstructing tracks...\n",
      "Building dataframe...\n",
      "Dataframe ready!\n",
      "Getting events...\n",
      "Valid hits: 169349\n",
      "Reconstructing tracks...\n",
      "Building dataframe...\n",
      "Dataframe ready!\n",
      "Getting events...\n",
      "Valid hits: 170932\n",
      "Reconstructing tracks...\n",
      "Building dataframe...\n",
      "Dataframe ready!\n",
      "Getting events...\n",
      "Valid hits: 171722\n",
      "Reconstructing tracks...\n",
      "Building dataframe...\n",
      "Dataframe ready!\n",
      "Getting events...\n",
      "Valid hits: 165763\n",
      "Reconstructing tracks...\n",
      "Building dataframe...\n",
      "Dataframe ready!\n",
      "Getting events...\n",
      "Valid hits: 75002\n",
      "Reconstructing tracks...\n",
      "Building dataframe...\n",
      "Dataframe ready!\n"
     ]
    }
   ],
   "source": [
    "upper_bound = 100000\n",
    "df, resultsList, resultsData, resultsHits, resultsDf = buildDataframe(stream_df[:upper_bound], cfg)"
   ]
  },
  {
   "cell_type": "code",
   "execution_count": 159,
   "metadata": {},
   "outputs": [],
   "source": [
    "x_residuals = [[] for i in range(4)]\n",
    "d_wire_hit  = [[] for i in range(4)]\n",
    "for i in range(len(resultsDf)):\n",
    "    if( resultsHits[i].df is None ): continue\n",
    "\n",
    "    # loop over SL\n",
    "    for sl in resultsList[i]['SL']:\n",
    "        df = resultsDf[i][resultsDf[i]['SL']==sl]\n",
    "        x_residuals[sl].extend(df['X']-(df['WIRE_Z_GLOB']*df['m']+df['q']))\n",
    "        d_wire_hit[sl].extend(abs(df['X']-df['WIRE_X_GLOB']))\n",
    "\n"
   ]
  },
  {
   "cell_type": "code",
   "execution_count": 176,
   "metadata": {},
   "outputs": [
    {
     "data": {
      "image/png": "[encoded data removed]",
      "text/plain": [
       "<Figure size 432x288 with 1 Axes>"
      ]
     },
     "metadata": {
      "needs_background": "light"
     },
     "output_type": "display_data"
    }
   ],
   "source": [
    "plt.hist(x_residuals[2], range=(-10, 10), bins = 75)\n",
    "plt.show()"
   ]
  },
  {
   "cell_type": "code",
   "execution_count": 169,
   "metadata": {},
   "outputs": [
    {
     "data": {
      "text/plain": [
       "(-15.0, 15.0)"
      ]
     },
     "execution_count": 169,
     "metadata": {},
     "output_type": "execute_result"
    },
    {
     "data": {
      "image/png": "[encoded data removed]",
      "text/plain": [
       "<Figure size 432x288 with 1 Axes>"
      ]
     },
     "metadata": {
      "needs_background": "light"
     },
     "output_type": "display_data"
    }
   ],
   "source": [
    "plt.scatter(d_wire_hit[0], x_residuals[0], alpha=0.3)\n",
    "plt.xlim(0,21)\n",
    "plt.ylim(-15,15)"
   ]
  },
  {
   "cell_type": "code",
   "execution_count": 100,
   "metadata": {},
   "outputs": [
    {
     "data": {
      "text/plain": [
       "[<matplotlib.lines.Line2D at 0x7f0bf15f31c0>]"
      ]
     },
     "execution_count": 100,
     "metadata": {},
     "output_type": "execute_result"
    },
    {
     "data": {
      "image/png": "[encoded data removed]",
      "text/plain": [
       "<Figure size 432x288 with 1 Axes>"
      ]
     },
     "metadata": {
      "needs_background": "light"
     },
     "output_type": "display_data"
    }
   ],
   "source": [
    "plt.scatter(df_true['Z'], df_true['X'])\n",
    "plt.plot(df_true['Z'], df_true['Z']*resultsList[0]['m'][0]+resultsList[0]['q'][0])"
   ]
  },
  {
   "cell_type": "code",
   "execution_count": null,
   "metadata": {},
   "outputs": [],
   "source": []
  }
 ],
 "metadata": {
  "interpreter": {
   "hash": "c764765d3a23b82ea6dc8b51e68f828b52dfa8d66dff00b67cebce7fa206e036"
  },
  "kernelspec": {
   "display_name": "Python 3.9.5 64-bit ('base': conda)",
   "language": "python",
   "name": "python3"
  },
  "language_info": {
   "codemirror_mode": {
    "name": "ipython",
    "version": 3
   },
   "file_extension": ".py",
   "mimetype": "text/x-python",
   "name": "python",
   "nbconvert_exporter": "python",
   "pygments_lexer": "ipython3",
   "version": "3.9.5"
  },
  "orig_nbformat": 4
 },
 "nbformat": 4,
 "nbformat_minor": 2
}
